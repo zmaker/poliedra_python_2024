{
 "cells": [
  {
   "cell_type": "markdown",
   "metadata": {},
   "source": [
    "## NumPy"
   ]
  },
  {
   "cell_type": "code",
   "execution_count": 1,
   "metadata": {},
   "outputs": [],
   "source": [
    "import numpy as np"
   ]
  },
  {
   "cell_type": "code",
   "execution_count": 2,
   "metadata": {},
   "outputs": [
    {
     "data": {
      "text/plain": [
       "array([1, 2, 3, 4, 5, 6, 7, 8, 9])"
      ]
     },
     "execution_count": 2,
     "metadata": {},
     "output_type": "execute_result"
    }
   ],
   "source": [
    "v1 = np.array([1,2,3,4,5,6,7,8,9])\n",
    "v1"
   ]
  },
  {
   "cell_type": "code",
   "execution_count": 3,
   "metadata": {},
   "outputs": [
    {
     "data": {
      "text/plain": [
       "array([[1, 2, 3],\n",
       "       [4, 5, 6],\n",
       "       [7, 8, 9]])"
      ]
     },
     "execution_count": 3,
     "metadata": {},
     "output_type": "execute_result"
    }
   ],
   "source": [
    "m1 = np.array([ [1,2,3],[4,5,6],[7,8,9] ])\n",
    "m1"
   ]
  },
  {
   "cell_type": "code",
   "execution_count": 4,
   "metadata": {},
   "outputs": [
    {
     "data": {
      "text/plain": [
       "(9,)"
      ]
     },
     "execution_count": 4,
     "metadata": {},
     "output_type": "execute_result"
    }
   ],
   "source": [
    "v1.shape"
   ]
  },
  {
   "cell_type": "code",
   "execution_count": 5,
   "metadata": {},
   "outputs": [
    {
     "data": {
      "text/plain": [
       "(3, 3)"
      ]
     },
     "execution_count": 5,
     "metadata": {},
     "output_type": "execute_result"
    }
   ],
   "source": [
    "m1.shape"
   ]
  },
  {
   "cell_type": "code",
   "execution_count": 6,
   "metadata": {},
   "outputs": [
    {
     "data": {
      "text/plain": [
       "array([[1, 2, 3],\n",
       "       [4, 5, 6],\n",
       "       [7, 8, 9]])"
      ]
     },
     "execution_count": 6,
     "metadata": {},
     "output_type": "execute_result"
    }
   ],
   "source": [
    "v2 = np.array([1,2,3,4,5,6,7,8,9])\n",
    "v2.shape = (3,3)\n",
    "v2"
   ]
  },
  {
   "cell_type": "code",
   "execution_count": 7,
   "metadata": {},
   "outputs": [
    {
     "name": "stdout",
     "output_type": "stream",
     "text": [
      "elemento centrale: 5\n"
     ]
    }
   ],
   "source": [
    "print(\"elemento centrale:\", v2[1,1])"
   ]
  },
  {
   "cell_type": "code",
   "execution_count": 8,
   "metadata": {},
   "outputs": [
    {
     "data": {
      "text/plain": [
       "array([[ 1,  2,  3],\n",
       "       [ 4, 99,  6],\n",
       "       [ 7,  8,  9]])"
      ]
     },
     "execution_count": 8,
     "metadata": {},
     "output_type": "execute_result"
    }
   ],
   "source": [
    "v2[1,1] = 99\n",
    "v2"
   ]
  },
  {
   "cell_type": "code",
   "execution_count": 9,
   "metadata": {},
   "outputs": [
    {
     "name": "stdout",
     "output_type": "stream",
     "text": [
      "9\n"
     ]
    }
   ],
   "source": [
    "n = np.array([1,2,3,4,5,6,7,8,9])\n",
    "print(n[-1])"
   ]
  },
  {
   "cell_type": "code",
   "execution_count": 10,
   "metadata": {},
   "outputs": [
    {
     "name": "stdout",
     "output_type": "stream",
     "text": [
      "[4 5]\n"
     ]
    }
   ],
   "source": [
    "print(n[3:5])"
   ]
  },
  {
   "cell_type": "code",
   "execution_count": 11,
   "metadata": {},
   "outputs": [
    {
     "name": "stdout",
     "output_type": "stream",
     "text": [
      "[4 5 6 7 8 9]\n",
      "[1 2 3 4 5]\n"
     ]
    }
   ],
   "source": [
    "print(n[3:])\n",
    "print(n[:5])"
   ]
  },
  {
   "cell_type": "code",
   "execution_count": 12,
   "metadata": {},
   "outputs": [
    {
     "data": {
      "text/plain": [
       "array([4, 5, 6])"
      ]
     },
     "execution_count": 12,
     "metadata": {},
     "output_type": "execute_result"
    }
   ],
   "source": [
    "m1[1]"
   ]
  },
  {
   "cell_type": "code",
   "execution_count": 13,
   "metadata": {},
   "outputs": [
    {
     "data": {
      "text/plain": [
       "array([[1, 2, 3],\n",
       "       [4, 5, 6],\n",
       "       [7, 8, 9]])"
      ]
     },
     "execution_count": 13,
     "metadata": {},
     "output_type": "execute_result"
    }
   ],
   "source": [
    "m1"
   ]
  },
  {
   "cell_type": "code",
   "execution_count": 14,
   "metadata": {},
   "outputs": [
    {
     "data": {
      "text/plain": [
       "array([1, 4, 7])"
      ]
     },
     "execution_count": 14,
     "metadata": {},
     "output_type": "execute_result"
    }
   ],
   "source": [
    "m1[:, 0]"
   ]
  },
  {
   "cell_type": "code",
   "execution_count": 15,
   "metadata": {},
   "outputs": [
    {
     "name": "stdout",
     "output_type": "stream",
     "text": [
      "[[5 6]\n",
      " [8 9]]\n"
     ]
    }
   ],
   "source": [
    "print( m1[1:3, 1:3] ) \n"
   ]
  },
  {
   "cell_type": "code",
   "execution_count": 16,
   "metadata": {},
   "outputs": [
    {
     "data": {
      "text/plain": [
       "array([1, 2, 3, 4, 5, 6, 7, 8, 9])"
      ]
     },
     "execution_count": 16,
     "metadata": {},
     "output_type": "execute_result"
    }
   ],
   "source": [
    "v1"
   ]
  },
  {
   "cell_type": "code",
   "execution_count": 17,
   "metadata": {},
   "outputs": [
    {
     "name": "stdout",
     "output_type": "stream",
     "text": [
      "v1: [1 2 3 4 5 6 7 8 9]\n",
      "l2: [  1   2   3   4   5   6   7   8   9 100]\n"
     ]
    }
   ],
   "source": [
    "l2 = np.append(v1, 100)\n",
    "print(\"v1:\", v1)\n",
    "print(\"l2:\", l2)"
   ]
  },
  {
   "cell_type": "code",
   "execution_count": 18,
   "metadata": {},
   "outputs": [
    {
     "name": "stdout",
     "output_type": "stream",
     "text": [
      "v1: [1 2 3 4 5 6 7 8 9]\n",
      "l3: [  1   2   3 100   4   5   6   7   8   9]\n"
     ]
    }
   ],
   "source": [
    "l3 = np.insert(v1, 3, 100)\n",
    "print(\"v1:\", v1)\n",
    "print(\"l3:\", l3)"
   ]
  },
  {
   "cell_type": "code",
   "execution_count": 19,
   "metadata": {},
   "outputs": [
    {
     "data": {
      "text/plain": [
       "dtype('int64')"
      ]
     },
     "execution_count": 19,
     "metadata": {},
     "output_type": "execute_result"
    }
   ],
   "source": [
    "v1.dtype"
   ]
  },
  {
   "cell_type": "code",
   "execution_count": 20,
   "metadata": {},
   "outputs": [
    {
     "data": {
      "text/plain": [
       "dtype('float64')"
      ]
     },
     "execution_count": 20,
     "metadata": {},
     "output_type": "execute_result"
    }
   ],
   "source": [
    "l4 = np.array([1.2, 23.4, 45.6])\n",
    "l4.dtype"
   ]
  },
  {
   "cell_type": "code",
   "execution_count": 21,
   "metadata": {},
   "outputs": [
    {
     "name": "stdout",
     "output_type": "stream",
     "text": [
      "[1 2 3 4 5 6 7 8 9]\n",
      "[ 1  2 12  4  5  6  7  8  9]\n"
     ]
    }
   ],
   "source": [
    "print(v1)\n",
    "v1[2] = 12.34\n",
    "print(v1)"
   ]
  },
  {
   "cell_type": "code",
   "execution_count": 22,
   "metadata": {},
   "outputs": [
    {
     "data": {
      "text/plain": [
       "array([ 1.,  2., 12.,  4.,  5.,  6.,  7.,  8.,  9.])"
      ]
     },
     "execution_count": 22,
     "metadata": {},
     "output_type": "execute_result"
    }
   ],
   "source": [
    "d1 = np.array( v1, dtype=float )\n",
    "d1"
   ]
  },
  {
   "cell_type": "code",
   "execution_count": 23,
   "metadata": {},
   "outputs": [
    {
     "name": "stdout",
     "output_type": "stream",
     "text": [
      "[ 1.    2.   12.34  4.    5.    6.    7.    8.    9.  ]\n"
     ]
    }
   ],
   "source": [
    "d1[2] = 12.34\n",
    "print(d1)"
   ]
  },
  {
   "cell_type": "code",
   "execution_count": 24,
   "metadata": {},
   "outputs": [
    {
     "data": {
      "text/plain": [
       "dtype('float64')"
      ]
     },
     "execution_count": 24,
     "metadata": {},
     "output_type": "execute_result"
    }
   ],
   "source": [
    "d1.dtype"
   ]
  },
  {
   "cell_type": "code",
   "execution_count": 25,
   "metadata": {},
   "outputs": [
    {
     "data": {
      "text/plain": [
       "array([     0,      0,      0,  16368,      0,      0,      0,  16384,\n",
       "        18350,  31457, -20972,  16424,      0,      0,      0,  16400,\n",
       "            0,      0,      0,  16404,      0,      0,      0,  16408,\n",
       "            0,      0,      0,  16412,      0,      0,      0,  16416,\n",
       "            0,      0,      0,  16418], dtype=int16)"
      ]
     },
     "execution_count": 25,
     "metadata": {},
     "output_type": "execute_result"
    }
   ],
   "source": [
    "d1.dtype = np.int16\n",
    "d1"
   ]
  },
  {
   "cell_type": "markdown",
   "metadata": {},
   "source": [
    "## Operazioni"
   ]
  },
  {
   "cell_type": "code",
   "execution_count": 26,
   "metadata": {},
   "outputs": [
    {
     "name": "stdout",
     "output_type": "stream",
     "text": [
      "[ 37  73 109 145]\n",
      "[13 27 41 55]\n",
      "[ 300 1150 2550 4500]\n",
      "[12.5 25.  37.5 50. ]\n"
     ]
    }
   ],
   "source": [
    "a = np.array([25,50,75,100])\n",
    "b = np.array([12,23,34,45])\n",
    "\n",
    "print(a+b)\n",
    "print(a-b)\n",
    "print(a*b)\n",
    "print(a*0.5)"
   ]
  },
  {
   "cell_type": "code",
   "execution_count": 27,
   "metadata": {},
   "outputs": [
    {
     "data": {
      "text/plain": [
       "array([False, False,  True,  True])"
      ]
     },
     "execution_count": 27,
     "metadata": {},
     "output_type": "execute_result"
    }
   ],
   "source": [
    "a > 60"
   ]
  },
  {
   "cell_type": "markdown",
   "metadata": {},
   "source": [
    "## Generare array"
   ]
  },
  {
   "cell_type": "code",
   "execution_count": 28,
   "metadata": {},
   "outputs": [
    {
     "name": "stdout",
     "output_type": "stream",
     "text": [
      "[1 2 3 4 5 6 7 8 9] (9,)\n"
     ]
    }
   ],
   "source": [
    "v = np.arange(1,10)\n",
    "print(v, v.shape)"
   ]
  },
  {
   "cell_type": "code",
   "execution_count": 29,
   "metadata": {},
   "outputs": [
    {
     "name": "stdout",
     "output_type": "stream",
     "text": [
      "[[1 2 3]\n",
      " [4 5 6]\n",
      " [7 8 9]] (3, 3)\n"
     ]
    }
   ],
   "source": [
    "v = np.arange(1,10).reshape(3,3)\n",
    "print(v, v.shape)"
   ]
  },
  {
   "cell_type": "code",
   "execution_count": 30,
   "metadata": {},
   "outputs": [
    {
     "data": {
      "text/plain": [
       "array([[0.96809356, 0.84577232, 0.88914515, 0.043841  ],\n",
       "       [0.72793839, 0.74825385, 0.38745714, 0.08923234],\n",
       "       [0.66811744, 0.58448942, 0.2731344 , 0.44437477],\n",
       "       [0.52465068, 0.91461053, 0.95468743, 0.16076844]])"
      ]
     },
     "execution_count": 30,
     "metadata": {},
     "output_type": "execute_result"
    }
   ],
   "source": [
    "n1 = np.random.random((4,4))\n",
    "n1"
   ]
  },
  {
   "cell_type": "code",
   "execution_count": 31,
   "metadata": {},
   "outputs": [
    {
     "data": {
      "text/plain": [
       "array([[96.80935591, 84.57723235, 88.91451489,  4.38409969],\n",
       "       [72.79383896, 74.82538506, 38.74571391,  8.92323431],\n",
       "       [66.81174393, 58.44894218, 27.31344046, 44.43747679],\n",
       "       [52.46506841, 91.46105259, 95.46874339, 16.07684434]])"
      ]
     },
     "execution_count": 31,
     "metadata": {},
     "output_type": "execute_result"
    }
   ],
   "source": [
    "n1 * 100.0"
   ]
  },
  {
   "cell_type": "code",
   "execution_count": 32,
   "metadata": {},
   "outputs": [
    {
     "data": {
      "text/plain": [
       "array([[85, 25, 96, 29],\n",
       "       [95, 33, 55, 71],\n",
       "       [ 7, 23, 90, 45],\n",
       "       [79, 42, 55, 59]])"
      ]
     },
     "execution_count": 32,
     "metadata": {},
     "output_type": "execute_result"
    }
   ],
   "source": [
    "n2 = np.random.randint(0,100, (4,4))\n",
    "n2"
   ]
  },
  {
   "cell_type": "code",
   "execution_count": 33,
   "metadata": {},
   "outputs": [
    {
     "name": "stdout",
     "output_type": "stream",
     "text": [
      "[[4.9e-324 9.9e-324 1.5e-323]\n",
      " [2.0e-323 2.5e-323 3.0e-323]\n",
      " [3.5e-323 4.0e-323 4.4e-323]]\n"
     ]
    }
   ],
   "source": [
    "n3 = np.empty((3,3))\n",
    "print(n3)"
   ]
  },
  {
   "cell_type": "code",
   "execution_count": 34,
   "metadata": {},
   "outputs": [
    {
     "name": "stdout",
     "output_type": "stream",
     "text": [
      "[[0. 0. 0. 0.]\n",
      " [0. 0. 0. 0.]\n",
      " [0. 0. 0. 0.]\n",
      " [0. 0. 0. 0.]]\n"
     ]
    }
   ],
   "source": [
    "n4 = np.zeros((4,4))\n",
    "print(n4)"
   ]
  },
  {
   "cell_type": "code",
   "execution_count": 35,
   "metadata": {},
   "outputs": [
    {
     "name": "stdout",
     "output_type": "stream",
     "text": [
      "[[1. 1. 1. 1.]\n",
      " [1. 1. 1. 1.]\n",
      " [1. 1. 1. 1.]\n",
      " [1. 1. 1. 1.]]\n"
     ]
    }
   ],
   "source": [
    "n4 = np.ones((4,4))\n",
    "print(n4)"
   ]
  },
  {
   "cell_type": "code",
   "execution_count": 36,
   "metadata": {},
   "outputs": [
    {
     "name": "stdout",
     "output_type": "stream",
     "text": [
      "[[5 5 5 5]\n",
      " [5 5 5 5]\n",
      " [5 5 5 5]\n",
      " [5 5 5 5]]\n"
     ]
    }
   ],
   "source": [
    "n4 = np.full((4,4), 5)\n",
    "print(n4)"
   ]
  },
  {
   "cell_type": "markdown",
   "metadata": {},
   "source": [
    "## filtri"
   ]
  },
  {
   "cell_type": "code",
   "execution_count": 37,
   "metadata": {},
   "outputs": [
    {
     "name": "stdout",
     "output_type": "stream",
     "text": [
      "[62  3 66 85 97 93 36 10 82 76 95 96 32 60 92 57 97 46 47  1]\n"
     ]
    }
   ],
   "source": [
    "n = np.random.randint(0,100, 20)\n",
    "print(n)"
   ]
  },
  {
   "cell_type": "code",
   "execution_count": 38,
   "metadata": {},
   "outputs": [
    {
     "name": "stdout",
     "output_type": "stream",
     "text": [
      "[ 0  1  2  3  4  5  6  7  8  9 10 11 12 13 14 15 16 17 18 19 20 21 22 23\n",
      " 24 25 26 27 28 29 30 31 32 33 34 35 36 37 38 39 40 41 42 43 44 45 46 47\n",
      " 48 49]\n",
      "[19 27 44 12 22 40 42 26 29 35 30  6 18 38 45 13  8 21 49 25 34 11 31  1\n",
      " 33 37 14 32 48 36 23  5 16  9  4 43 15  0 17 20 46 41  2 39 47 10 28 24\n",
      "  3  7]\n"
     ]
    }
   ],
   "source": [
    "n2 = np.arange(0,50)\n",
    "print(n2)\n",
    "np.random.shuffle(n2)\n",
    "print(n2)"
   ]
  },
  {
   "cell_type": "code",
   "execution_count": 39,
   "metadata": {},
   "outputs": [
    {
     "name": "stdout",
     "output_type": "stream",
     "text": [
      "[19 12  6 18 13  8 11  1 14  5 16  9  4 15  0 17  2 10  3  7]\n"
     ]
    }
   ],
   "source": [
    "print( n2[n2 < 20] )"
   ]
  },
  {
   "cell_type": "code",
   "execution_count": 40,
   "metadata": {},
   "outputs": [
    {
     "name": "stdout",
     "output_type": "stream",
     "text": [
      "[10]\n"
     ]
    }
   ],
   "source": [
    "print( n2[n2 == 10] )"
   ]
  },
  {
   "cell_type": "code",
   "execution_count": 41,
   "metadata": {},
   "outputs": [
    {
     "name": "stdout",
     "output_type": "stream",
     "text": [
      "[44 12 22 40 42 26 30  6 18 38  8 34 14 32 48 36 16  4  0 20 46  2 10 28\n",
      " 24]\n"
     ]
    }
   ],
   "source": [
    "print( n2[ n2%2 == 0 ] )"
   ]
  },
  {
   "cell_type": "code",
   "execution_count": 42,
   "metadata": {},
   "outputs": [
    {
     "name": "stdout",
     "output_type": "stream",
     "text": [
      "[44 42  6 45  8 49  1 48  5  9  4 43  0 46 41  2 47  3  7]\n"
     ]
    }
   ],
   "source": [
    "print( n2[ (n2 > 40) | (n2 < 10) ] )"
   ]
  },
  {
   "cell_type": "code",
   "execution_count": 43,
   "metadata": {},
   "outputs": [
    {
     "name": "stdout",
     "output_type": "stream",
     "text": [
      "[27 22 26 29 21 25 23 28 24]\n"
     ]
    }
   ],
   "source": [
    "print( n2[ (n2 < 30) & (n2 > 20) ] )"
   ]
  },
  {
   "cell_type": "code",
   "execution_count": 44,
   "metadata": {},
   "outputs": [
    {
     "name": "stdout",
     "output_type": "stream",
     "text": [
      "['D' 'D' 'P' 'P' 'P' 'P' 'P' 'P' 'D' 'D' 'P' 'P' 'P' 'P' 'D' 'D' 'P' 'D'\n",
      " 'D' 'D' 'P' 'D' 'D' 'D' 'D' 'D' 'P' 'P' 'P' 'P' 'D' 'D' 'P' 'D' 'P' 'D'\n",
      " 'D' 'P' 'D' 'P' 'P' 'D' 'P' 'D' 'D' 'P' 'P' 'P' 'D' 'D']\n"
     ]
    }
   ],
   "source": [
    "nn = np.where( (n2%2 == 0), \"P\", \"D\" )\n",
    "print(nn)"
   ]
  },
  {
   "cell_type": "markdown",
   "metadata": {},
   "source": [
    "## Files\n"
   ]
  },
  {
   "cell_type": "code",
   "execution_count": 45,
   "metadata": {},
   "outputs": [
    {
     "name": "stdout",
     "output_type": "stream",
     "text": [
      "[32.54 78.91 15.03 99.99  4.27 65.82 21.16 87.35 50.    1.79]\n"
     ]
    }
   ],
   "source": [
    "lista = np.genfromtxt('numeri.txt')\n",
    "print(lista)"
   ]
  },
  {
   "cell_type": "code",
   "execution_count": 46,
   "metadata": {},
   "outputs": [
    {
     "name": "stdout",
     "output_type": "stream",
     "text": [
      "[ 39.048  94.692  18.036 119.988   5.124  78.984  25.392 104.82   60.\n",
      "   2.148]\n"
     ]
    }
   ],
   "source": [
    "lista = lista * 1.20\n",
    "print(lista)"
   ]
  },
  {
   "cell_type": "code",
   "execution_count": 47,
   "metadata": {},
   "outputs": [],
   "source": [
    "np.savetxt(\"numeri2.txt\", lista, fmt='%0.2f')"
   ]
  },
  {
   "cell_type": "code",
   "execution_count": 48,
   "metadata": {},
   "outputs": [
    {
     "name": "stdout",
     "output_type": "stream",
     "text": [
      "[[12.34 98.76]\n",
      " [56.78 34.56]\n",
      " [78.9  12.34]\n",
      " [34.56 98.76]\n",
      " [98.76 56.78]\n",
      " [12.34 78.9 ]\n",
      " [56.78 34.56]\n",
      " [78.9  98.76]\n",
      " [34.56 12.34]\n",
      " [98.76 56.78]\n",
      " [12.34 78.9 ]\n",
      " [56.78 34.56]\n",
      " [78.9  98.76]\n",
      " [34.56 12.34]\n",
      " [98.76 56.78]\n",
      " [12.34 78.9 ]\n",
      " [56.78 34.56]\n",
      " [78.9  98.76]\n",
      " [34.56 12.34]\n",
      " [98.76 56.78]]\n"
     ]
    }
   ],
   "source": [
    "lista2 = np.loadtxt('numeri.csv', delimiter=',', skiprows=0)\n",
    "print(lista2)"
   ]
  },
  {
   "cell_type": "code",
   "execution_count": 49,
   "metadata": {},
   "outputs": [],
   "source": [
    "np.save('dati1', lista2)"
   ]
  },
  {
   "cell_type": "code",
   "execution_count": 51,
   "metadata": {},
   "outputs": [
    {
     "name": "stdout",
     "output_type": "stream",
     "text": [
      "[[12.34 98.76]\n",
      " [56.78 34.56]\n",
      " [78.9  12.34]\n",
      " [34.56 98.76]\n",
      " [98.76 56.78]\n",
      " [12.34 78.9 ]\n",
      " [56.78 34.56]\n",
      " [78.9  98.76]\n",
      " [34.56 12.34]\n",
      " [98.76 56.78]\n",
      " [12.34 78.9 ]\n",
      " [56.78 34.56]\n",
      " [78.9  98.76]\n",
      " [34.56 12.34]\n",
      " [98.76 56.78]\n",
      " [12.34 78.9 ]\n",
      " [56.78 34.56]\n",
      " [78.9  98.76]\n",
      " [34.56 12.34]\n",
      " [98.76 56.78]]\n"
     ]
    }
   ],
   "source": [
    "data = np.load('dati1.npy')\n",
    "print(data)"
   ]
  }
 ],
 "metadata": {
  "kernelspec": {
   "display_name": "Python 3",
   "language": "python",
   "name": "python3"
  },
  "language_info": {
   "codemirror_mode": {
    "name": "ipython",
    "version": 3
   },
   "file_extension": ".py",
   "mimetype": "text/x-python",
   "name": "python",
   "nbconvert_exporter": "python",
   "pygments_lexer": "ipython3",
   "version": "3.12.2"
  }
 },
 "nbformat": 4,
 "nbformat_minor": 2
}
