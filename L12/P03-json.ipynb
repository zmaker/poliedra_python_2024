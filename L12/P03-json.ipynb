{
 "cells": [
  {
   "cell_type": "markdown",
   "metadata": {},
   "source": [
    "## JSON\n",
    "\n",
    "{'id': '0001', 'type': 'donut', 'name': 'Cake', 'ppu': 0.55, 'batters': {'batter': [{'id': '1001', 'type': 'Regular'}, {'id': '1002', 'type': 'Chocolate'}, {'id': '1003', 'type': 'Blueberry'}, {'id': '1004', 'type': \"Devil's Food\"}]}, 'topping': [{'id': '5001', 'type': 'None'}, {'id': '5002', 'type': 'Glazed'}, {'id': '5005', 'type': 'Sugar'}, {'id': '5007', 'type': 'Powdered Sugar'}, {'id': '5006', 'type': 'Chocolate with Sprinkles'}, {'id': '5003', 'type': 'Chocolate'}, {'id': '5004', 'type': 'Maple'}]}\n",
    "\n",
    "**Esempio json semplice**\n",
    "\n",
    "{ \"nome\":\"Mario\", \"cognome\":\"Rossi\", \"data_nascita\":\"01/02/1995\"}\n",
    "\n",
    "{ \"nome\":\"Mario Rossi\", \"id\":123, \"materie\":\n",
    "    [ \n",
    "        { \"cod\":1, \"materia\":\"mate\" },\n",
    "        { \"cod\":2, \"materia\":\"ita\" }, \n",
    "        { \"cod\":3, \"materia\":\"fisica\" }  \n",
    "    ]\n",
    "}"
   ]
  },
  {
   "cell_type": "code",
   "execution_count": 3,
   "metadata": {},
   "outputs": [
    {
     "name": "stdout",
     "output_type": "stream",
     "text": [
      "{'nome': 'Mario Rossi', 'id': 123, 'materie': [{'cod': 1, 'materia': 'mate'}, {'cod': 2, 'materia': 'ita'}, {'cod': 3, 'materia': 'fisica'}]}\n"
     ]
    }
   ],
   "source": [
    "import json\n",
    "with open(\"sample.json\") as f:\n",
    "    doc = json.load(f)\n",
    "    print(doc)\n"
   ]
  },
  {
   "cell_type": "code",
   "execution_count": 4,
   "metadata": {},
   "outputs": [
    {
     "name": "stdout",
     "output_type": "stream",
     "text": [
      "nome: Mario Rossi\n"
     ]
    }
   ],
   "source": [
    "print(\"nome:\", doc[\"nome\"])"
   ]
  },
  {
   "cell_type": "code",
   "execution_count": 5,
   "metadata": {},
   "outputs": [
    {
     "name": "stdout",
     "output_type": "stream",
     "text": [
      "id: 123\n"
     ]
    }
   ],
   "source": [
    "print(\"id:\", doc[\"id\"])"
   ]
  },
  {
   "cell_type": "code",
   "execution_count": 7,
   "metadata": {},
   "outputs": [
    {
     "name": "stdout",
     "output_type": "stream",
     "text": [
      "1 mate\n",
      "2 ita\n",
      "3 fisica\n"
     ]
    }
   ],
   "source": [
    "lista = doc[\"materie\"]\n",
    "for el in lista:\n",
    "    print(el[\"cod\"], el[\"materia\"])"
   ]
  },
  {
   "cell_type": "markdown",
   "metadata": {},
   "source": [
    "## Creazione file json"
   ]
  },
  {
   "cell_type": "code",
   "execution_count": 8,
   "metadata": {},
   "outputs": [],
   "source": [
    "doc = {\"nome\":\"Luigi Bianchi\", \"id\":23, \"citta\":\"Milano\"} \n",
    "with open(\"persona.json\", \"w\") as f:\n",
    "    json.dump(doc, f)"
   ]
  }
 ],
 "metadata": {
  "kernelspec": {
   "display_name": "Python 3",
   "language": "python",
   "name": "python3"
  },
  "language_info": {
   "codemirror_mode": {
    "name": "ipython",
    "version": 3
   },
   "file_extension": ".py",
   "mimetype": "text/x-python",
   "name": "python",
   "nbconvert_exporter": "python",
   "pygments_lexer": "ipython3",
   "version": "3.12.2"
  }
 },
 "nbformat": 4,
 "nbformat_minor": 2
}
