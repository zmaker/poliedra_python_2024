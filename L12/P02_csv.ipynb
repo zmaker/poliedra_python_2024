{
  "cells": [
    {
      "cell_type": "markdown",
      "metadata": {},
      "source": [
        "## CSV e Python"
      ]
    },
    {
      "cell_type": "code",
      "execution_count": 1,
      "metadata": {
        "trusted": true
      },
      "outputs": [],
      "source": [
        "import csv"
      ]
    },
    {
      "cell_type": "code",
      "execution_count": 2,
      "metadata": {
        "trusted": true
      },
      "outputs": [
        {
          "name": "stdout",
          "output_type": "stream",
          "text": [
            "[cod] - nome nome h: cognome\n",
            "[1] - Mario Mario h: Rossi\n",
            "[2] - Luigi Luigi h: Bianchi\n",
            "[3] - Giuseppe Giuseppe h: Verdi\n",
            "[4] - Anna Anna h: Viola\n"
          ]
        }
      ],
      "source": [
        "with open(\"persone.csv\") as f:\n",
        "    cur = csv.reader(f, delimiter=',')\n",
        "    for riga in cur:\n",
        "        print(f\"[{riga[0]}] - {riga[1]} {riga[1]} h: {riga[2]}\")"
      ]
    },
    {
      "cell_type": "code",
      "execution_count": 3,
      "metadata": {
        "trusted": true
      },
      "outputs": [],
      "source": [
        "with open(\"dati.csv\", \"w\", newline='') as f:\n",
        "    cur = csv.writer(f, delimiter=',')\n",
        "    cur.writerow(['cod', 'nome', 'qta', 'prezzo'])\n",
        "    cur.writerow(['001', 'mele', '12', '1.89'])\n",
        "    cur.writerow(['002', 'pere', '34', '3.45'])\n",
        "    cur.writerow(['003', 'kiwi', '56', '5.55'])"
      ]
    }
  ],
  "metadata": {
    "kernelspec": {
      "display_name": "Python 3",
      "language": "python",
      "name": "python3"
    },
    "language_info": {
      "codemirror_mode": {
        "name": "ipython",
        "version": 3
      },
      "file_extension": ".py",
      "mimetype": "text/x-python",
      "name": "python",
      "nbconvert_exporter": "python",
      "pygments_lexer": "ipython3",
      "version": "3.12.2"
    }
  },
  "nbformat": 4,
  "nbformat_minor": 4
}
